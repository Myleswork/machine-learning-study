{
 "cells": [
  {
   "cell_type": "code",
   "execution_count": 5,
   "id": "9158be07",
   "metadata": {},
   "outputs": [],
   "source": [
    "import numpy as np\n",
    "import time"
   ]
  },
  {
   "cell_type": "code",
   "execution_count": 21,
   "id": "0f5a44b7",
   "metadata": {},
   "outputs": [],
   "source": [
    "a=np.random.rand(1000000)\n",
    "b=np.random.rand(1000000)\n",
    "#1*1000000"
   ]
  },
  {
   "cell_type": "code",
   "execution_count": 13,
   "id": "2b3b325d",
   "metadata": {},
   "outputs": [
    {
     "name": "stdout",
     "output_type": "stream",
     "text": [
      "249988.42170527077\n",
      "向量化技术时间:1.9962787628173828ms\n",
      "249988.4217052663\n",
      "循环计算时间:595.5488681793213ms\n"
     ]
    }
   ],
   "source": [
    "tic=time.time()\n",
    "c=np.dot(a,b)\n",
    "toc=time.time()\n",
    "print(c)\n",
    "print(\"向量化技术时间:\" + str((toc-tic)*1000) + \"ms\")\n",
    "\n",
    "c=0\n",
    "tic=time.time()\n",
    "for i in range(1000000):\n",
    "    c+=a[i]*b[i]\n",
    "toc=time.time()\n",
    "print(c)\n",
    "print(\"循环计算时间:\"+str((toc-tic)*1000)+\"ms\")\n"
   ]
  },
  {
   "cell_type": "code",
   "execution_count": 14,
   "id": "abd16933",
   "metadata": {},
   "outputs": [],
   "source": [
    "#above are the avoidance of for-loop"
   ]
  },
  {
   "cell_type": "code",
   "execution_count": 22,
   "id": "d0c21bd3",
   "metadata": {},
   "outputs": [
    {
     "name": "stdout",
     "output_type": "stream",
     "text": [
      "[1.73510909 2.22230601 1.29912344 ... 1.43187473 1.61393775 1.17166999]\n",
      "time for np functino:15.956401824951172ms\n"
     ]
    }
   ],
   "source": [
    "tic=time.time()\n",
    "a_exp=np.exp(a)\n",
    "toc=time.time()\n",
    "print(a_exp)\n",
    "print(\"time for np functino:\"+str((toc-tic)*1000)+\"ms\")"
   ]
  },
  {
   "cell_type": "code",
   "execution_count": 23,
   "id": "e29f870c",
   "metadata": {},
   "outputs": [],
   "source": [
    "import math"
   ]
  },
  {
   "cell_type": "code",
   "execution_count": 24,
   "id": "15235ec9",
   "metadata": {},
   "outputs": [
    {
     "name": "stdout",
     "output_type": "stream",
     "text": [
      "[1.73510909 2.22230601 1.29912344 ... 1.43187473 1.61393775 1.17166999]\n",
      "time for for-loop:500.96845626831055ms\n"
     ]
    }
   ],
   "source": [
    "tic=time.time()\n",
    "for i in range(1000000):\n",
    "    a[i]=math.exp(a[i])\n",
    "toc=time.time()\n",
    "\n",
    "print(a)\n",
    "print(\"time for for-loop:\"+str((toc-tic)*1000)+\"ms\")"
   ]
  },
  {
   "cell_type": "code",
   "execution_count": null,
   "id": "e2705da2",
   "metadata": {},
   "outputs": [],
   "source": []
  }
 ],
 "metadata": {
  "kernelspec": {
   "display_name": "Python [conda env:mls]",
   "language": "python",
   "name": "conda-env-mls-py"
  },
  "language_info": {
   "codemirror_mode": {
    "name": "ipython",
    "version": 3
   },
   "file_extension": ".py",
   "mimetype": "text/x-python",
   "name": "python",
   "nbconvert_exporter": "python",
   "pygments_lexer": "ipython3",
   "version": "3.7.12"
  }
 },
 "nbformat": 4,
 "nbformat_minor": 5
}
