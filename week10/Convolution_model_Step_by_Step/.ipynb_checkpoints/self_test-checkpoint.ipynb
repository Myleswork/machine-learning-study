{
 "cells": [
  {
   "cell_type": "code",
   "execution_count": 1,
   "id": "dbca1b15",
   "metadata": {},
   "outputs": [],
   "source": [
    "import numpy as np"
   ]
  },
  {
   "cell_type": "code",
   "execution_count": 2,
   "id": "2bcad1f5",
   "metadata": {},
   "outputs": [
    {
     "name": "stdout",
     "output_type": "stream",
     "text": [
      "[[1 5 6 2 1 2]\n",
      " [7 8 3 8 3 2]\n",
      " [2 2 1 2 2 2]\n",
      " [9 7 8 2 9 6]\n",
      " [7 5 2 2 8 2]\n",
      " [3 6 7 6 4 5]]\n"
     ]
    }
   ],
   "source": [
    "A = np.random.randint(1,10,size = [6,6])\n",
    "print(A)"
   ]
  },
  {
   "cell_type": "code",
   "execution_count": 7,
   "id": "f1636624",
   "metadata": {},
   "outputs": [],
   "source": [
    "## numpy.pad(array, pad_width, mode='constant', **kwargs)\n",
    "## array:需要填充的数组\n",
    "## pad_width:表示每个轴边缘需要填充的size，以二维数组为例，表示方式如下：\n",
    "## ((before_1,after_1),(before_2,after_2))\n",
    "## 在二维数组中，第一维表示行,before_1表示在上面添加before_1行，after_1表示在下面添加after_1行\n",
    "## 第二维表示列，before_2表示在左边添加before_2列，after_2表示在右边添加after_2列\n",
    "## 或者只填一个数字num，表示各维均补2*num\n",
    "## mode:填充方式，总共有11中填充方式，见https://numpy.org/doc/stable/reference/generated/numpy.pad.html\n",
    "## **kwargs：根据mode给定需要填充的值的形式"
   ]
  },
  {
   "cell_type": "code",
   "execution_count": 8,
   "id": "4922bfc7",
   "metadata": {},
   "outputs": [
    {
     "name": "stdout",
     "output_type": "stream",
     "text": [
      "[[0 0 0 0 0 0 0 0 0 0 0]\n",
      " [0 0 0 0 0 0 0 0 0 0 0]\n",
      " [0 0 0 3 8 3 6 9 1 0 0]\n",
      " [0 0 0 1 1 4 5 4 5 0 0]\n",
      " [0 0 0 9 7 8 5 2 6 0 0]\n",
      " [0 0 0 3 3 2 9 8 9 0 0]\n",
      " [0 0 0 7 6 7 7 2 7 0 0]\n",
      " [0 0 0 7 9 7 5 6 5 0 0]\n",
      " [0 0 0 0 0 0 0 0 0 0 0]\n",
      " [0 0 0 0 0 0 0 0 0 0 0]\n",
      " [0 0 0 0 0 0 0 0 0 0 0]]\n"
     ]
    }
   ],
   "source": [
    "A_padding = np.pad(A, ((2,3),(3,2)), mode='constant', constant_values = (0,0))\n",
    "print(A_padding)"
   ]
  },
  {
   "cell_type": "code",
   "execution_count": 9,
   "id": "cf41bc4c",
   "metadata": {
    "scrolled": true
   },
   "outputs": [
    {
     "name": "stdout",
     "output_type": "stream",
     "text": [
      "[[0 0 0 0 0 0 0 0]\n",
      " [0 3 8 3 6 9 1 0]\n",
      " [0 1 1 4 5 4 5 0]\n",
      " [0 9 7 8 5 2 6 0]\n",
      " [0 3 3 2 9 8 9 0]\n",
      " [0 7 6 7 7 2 7 0]\n",
      " [0 7 9 7 5 6 5 0]\n",
      " [0 0 0 0 0 0 0 0]]\n"
     ]
    }
   ],
   "source": [
    "A_padding = np.pad(A, 1, mode='constant', constant_values = (0,0))\n",
    "print(A_padding)"
   ]
  },
  {
   "cell_type": "code",
   "execution_count": 11,
   "id": "2c313d98",
   "metadata": {},
   "outputs": [
    {
     "data": {
      "text/plain": [
       "array([[[[ 1.62434536, -0.61175641],\n",
       "         [-0.52817175, -1.07296862],\n",
       "         [ 0.86540763, -2.3015387 ]],\n",
       "\n",
       "        [[ 1.74481176, -0.7612069 ],\n",
       "         [ 0.3190391 , -0.24937038],\n",
       "         [ 1.46210794, -2.06014071]],\n",
       "\n",
       "        [[-0.3224172 , -0.38405435],\n",
       "         [ 1.13376944, -1.09989127],\n",
       "         [-0.17242821, -0.87785842]]],\n",
       "\n",
       "\n",
       "       [[[ 0.04221375,  0.58281521],\n",
       "         [-1.10061918,  1.14472371],\n",
       "         [ 0.90159072,  0.50249434]],\n",
       "\n",
       "        [[ 0.90085595, -0.68372786],\n",
       "         [-0.12289023, -0.93576943],\n",
       "         [-0.26788808,  0.53035547]],\n",
       "\n",
       "        [[-0.69166075, -0.39675353],\n",
       "         [-0.6871727 , -0.84520564],\n",
       "         [-0.67124613, -0.0126646 ]]],\n",
       "\n",
       "\n",
       "       [[[-1.11731035,  0.2344157 ],\n",
       "         [ 1.65980218,  0.74204416],\n",
       "         [-0.19183555, -0.88762896]],\n",
       "\n",
       "        [[-0.74715829,  1.6924546 ],\n",
       "         [ 0.05080775, -0.63699565],\n",
       "         [ 0.19091548,  2.10025514]],\n",
       "\n",
       "        [[ 0.12015895,  0.61720311],\n",
       "         [ 0.30017032, -0.35224985],\n",
       "         [-1.1425182 , -0.34934272]]],\n",
       "\n",
       "\n",
       "       [[[-0.20889423,  0.58662319],\n",
       "         [ 0.83898341,  0.93110208],\n",
       "         [ 0.28558733,  0.88514116]],\n",
       "\n",
       "        [[-0.75439794,  1.25286816],\n",
       "         [ 0.51292982, -0.29809284],\n",
       "         [ 0.48851815, -0.07557171]],\n",
       "\n",
       "        [[ 1.13162939,  1.51981682],\n",
       "         [ 2.18557541, -1.39649634],\n",
       "         [-1.44411381, -0.50446586]]]])"
      ]
     },
     "execution_count": 11,
     "metadata": {},
     "output_type": "execute_result"
    }
   ],
   "source": [
    "np.random.seed(1)\n",
    "x = np.random.randn(4, 3, 3, 2)\n",
    "x"
   ]
  },
  {
   "cell_type": "code",
   "execution_count": 4,
   "id": "d1d489d2",
   "metadata": {},
   "outputs": [
    {
     "name": "stdout",
     "output_type": "stream",
     "text": [
      "[[1 2 3]\n",
      " [4 5 6]]\n"
     ]
    }
   ],
   "source": [
    "A = np.array([1,2,3,4,5,6])\n",
    "A.resize(2,3)\n",
    "print(A)"
   ]
  },
  {
   "cell_type": "code",
   "execution_count": 5,
   "id": "5d622d19",
   "metadata": {},
   "outputs": [
    {
     "name": "stdout",
     "output_type": "stream",
     "text": [
      "[[1 1 1]\n",
      " [2 2 2]]\n"
     ]
    }
   ],
   "source": [
    "B = np.array([1,1,1,2,2,2])\n",
    "B.resize(2,3)\n",
    "print(B)"
   ]
  },
  {
   "cell_type": "code",
   "execution_count": 6,
   "id": "2c303e34",
   "metadata": {},
   "outputs": [
    {
     "name": "stdout",
     "output_type": "stream",
     "text": [
      "[[ 1  2  3]\n",
      " [ 8 10 12]]\n"
     ]
    }
   ],
   "source": [
    "C = np.multiply(A, B)\n",
    "print(C)"
   ]
  },
  {
   "cell_type": "code",
   "execution_count": 8,
   "id": "87b62465",
   "metadata": {},
   "outputs": [
    {
     "name": "stdout",
     "output_type": "stream",
     "text": [
      "1\n"
     ]
    }
   ],
   "source": [
    "a = 1\n",
    "print(a)"
   ]
  },
  {
   "cell_type": "code",
   "execution_count": 10,
   "id": "6083779c",
   "metadata": {},
   "outputs": [
    {
     "name": "stdout",
     "output_type": "stream",
     "text": [
      "1.0\n"
     ]
    }
   ],
   "source": [
    "a = float(a)\n",
    "print(a)"
   ]
  },
  {
   "cell_type": "code",
   "execution_count": 15,
   "id": "abf93959",
   "metadata": {},
   "outputs": [],
   "source": [
    "A_prev = np.random.randn(2, 5, 7, 4)\n",
    "(m, n_H_prev, n_W_prev, n_C_prev) = A_prev.shape"
   ]
  },
  {
   "cell_type": "code",
   "execution_count": 16,
   "id": "d2f4fdd2",
   "metadata": {},
   "outputs": [
    {
     "name": "stdout",
     "output_type": "stream",
     "text": [
      "1\n"
     ]
    }
   ],
   "source": [
    "hparameters = {\"pad\" : 1,\n",
    "               \"stride\": 2}\n",
    "pad = hparameters[\"pad\"]\n",
    "print(pad)"
   ]
  },
  {
   "cell_type": "code",
   "execution_count": 19,
   "id": "ce0f29a2",
   "metadata": {},
   "outputs": [
    {
     "name": "stdout",
     "output_type": "stream",
     "text": [
      "[[[[0. 0. 0.]\n",
      "   [0. 0. 0.]\n",
      "   [0. 0. 0.]]\n",
      "\n",
      "  [[0. 0. 0.]\n",
      "   [0. 0. 0.]\n",
      "   [0. 0. 0.]]\n",
      "\n",
      "  [[0. 0. 0.]\n",
      "   [0. 0. 0.]\n",
      "   [0. 0. 0.]]]\n",
      "\n",
      "\n",
      " [[[0. 0. 0.]\n",
      "   [0. 0. 0.]\n",
      "   [0. 0. 0.]]\n",
      "\n",
      "  [[0. 0. 0.]\n",
      "   [0. 0. 0.]\n",
      "   [0. 0. 0.]]\n",
      "\n",
      "  [[0. 0. 0.]\n",
      "   [0. 0. 0.]\n",
      "   [0. 0. 0.]]]\n",
      "\n",
      "\n",
      " [[[0. 0. 0.]\n",
      "   [0. 0. 0.]\n",
      "   [0. 0. 0.]]\n",
      "\n",
      "  [[0. 0. 0.]\n",
      "   [0. 0. 0.]\n",
      "   [0. 0. 0.]]\n",
      "\n",
      "  [[0. 0. 0.]\n",
      "   [0. 0. 0.]\n",
      "   [0. 0. 0.]]]]\n"
     ]
    }
   ],
   "source": [
    "Z = np.zeros([3,3,3,3])\n",
    "print(Z)"
   ]
  },
  {
   "cell_type": "code",
   "execution_count": null,
   "id": "c08fe6e1",
   "metadata": {},
   "outputs": [],
   "source": []
  }
 ],
 "metadata": {
  "kernelspec": {
   "display_name": "Python [conda env:mls]",
   "language": "python",
   "name": "conda-env-mls-py"
  },
  "language_info": {
   "codemirror_mode": {
    "name": "ipython",
    "version": 3
   },
   "file_extension": ".py",
   "mimetype": "text/x-python",
   "name": "python",
   "nbconvert_exporter": "python",
   "pygments_lexer": "ipython3",
   "version": "3.7.12"
  }
 },
 "nbformat": 4,
 "nbformat_minor": 5
}
