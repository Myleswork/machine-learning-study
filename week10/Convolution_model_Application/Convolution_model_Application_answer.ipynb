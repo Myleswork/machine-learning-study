{
 "cells": [
  {
   "cell_type": "markdown",
   "metadata": {},
   "source": [
    "# Convolutional Neural Networks: Application\n",
    "\n",
    "Welcome to Course 4's second assignment! In this notebook, you will:\n",
    "\n",
    "- Create a mood classifer using the TF Keras Sequential API\n",
    "- Build a ConvNet to identify sign language digits using the TF Keras Functional API\n",
    "\n",
    "**After this assignment you will be able to:**\n",
    "\n",
    "- Build and train a ConvNet in TensorFlow for a __binary__ classification problem\n",
    "- Build and train a ConvNet in TensorFlow for a __multiclass__ classification problem\n",
    "- Explain different use cases for the Sequential and Functional APIs\n",
    "\n",
    "To complete this assignment, you should already be familiar with TensorFlow. If you are not, please refer back to the **TensorFlow Tutorial** of the third week of Course 2 (\"**Improving deep neural networks**\")."
   ]
  },
  {
   "cell_type": "markdown",
   "metadata": {},
   "source": [
    "## Table of Contents\n",
    "\n",
    "- [1 - Packages](#1)\n",
    "    - [1.1 - Load the Data and Split the Data into Train/Test Sets](#1-1)\n",
    "- [2 - Layers in TF Keras](#2)\n",
    "- [3 - The Sequential API](#3)\n",
    "    - [3.1 - Create the Sequential Model](#3-1)\n",
    "        - [Exercise 1 - happyModel](#ex-1)\n",
    "    - [3.2 - Train and Evaluate the Model](#3-2)\n",
    "- [4 - The Functional API](#4)\n",
    "    - [4.1 - Load the SIGNS Dataset](#4-1)\n",
    "    - [4.2 - Split the Data into Train/Test Sets](#4-2)\n",
    "    - [4.3 - Forward Propagation](#4-3)\n",
    "        - [Exercise 2 - convolutional_model](#ex-2)\n",
    "    - [4.4 - Train the Model](#4-4)\n",
    "- [5 - History Object](#5)\n",
    "- [6 - Bibliography](#6)"
   ]
  },
  {
   "cell_type": "markdown",
   "metadata": {},
   "source": [
    "<a name='1'></a>\n",
    "## 1 - Packages\n",
    "\n",
    "As usual, begin by loading in the packages."
   ]
  },
  {
   "cell_type": "code",
   "execution_count": 8,
   "metadata": {},
   "outputs": [],
   "source": [
    "import math\n",
    "import numpy as np\n",
    "import h5py\n",
    "import matplotlib.pyplot as plt\n",
    "from matplotlib.pyplot import imread\n",
    "import scipy\n",
    "from PIL import Image\n",
    "import pandas as pd\n",
    "import tensorflow as tf\n",
    "import tensorflow.keras.layers as tfl\n",
    "from tensorflow.python.framework import ops\n",
    "from cnn_utils import *\n",
    "from test_utils import summary, comparator\n",
    "\n",
    "%matplotlib inline\n",
    "np.random.seed(1)"
   ]
  },
  {
   "cell_type": "markdown",
   "metadata": {},
   "source": [
    "<a name='1-1'></a>\n",
    "### 1.1 - Load the Data and Split the Data into Train/Test Sets\n",
    "\n",
    "You'll be using the Happy House dataset for this part of the assignment, which contains images of peoples' faces. Your task will be to build a ConvNet that determines whether the people in the images are smiling or not -- because they only get to enter the house if they're smiling!  "
   ]
  },
  {
   "cell_type": "code",
   "execution_count": 9,
   "metadata": {},
   "outputs": [
    {
     "name": "stdout",
     "output_type": "stream",
     "text": [
      "number of training examples = 600\n",
      "number of test examples = 150\n",
      "X_train shape: (600, 64, 64, 3)\n",
      "Y_train shape: (600, 1)\n",
      "X_test shape: (150, 64, 64, 3)\n",
      "Y_test shape: (150, 1)\n"
     ]
    }
   ],
   "source": [
    "X_train_orig, Y_train_orig, X_test_orig, Y_test_orig, classes = load_happy_dataset()\n",
    "\n",
    "# Normalize image vectors\n",
    "X_train = X_train_orig/255.\n",
    "X_test = X_test_orig/255.\n",
    "\n",
    "# Reshape\n",
    "Y_train = Y_train_orig.T\n",
    "Y_test = Y_test_orig.T\n",
    "\n",
    "print (\"number of training examples = \" + str(X_train.shape[0]))\n",
    "print (\"number of test examples = \" + str(X_test.shape[0]))\n",
    "print (\"X_train shape: \" + str(X_train.shape))\n",
    "print (\"Y_train shape: \" + str(Y_train.shape))\n",
    "print (\"X_test shape: \" + str(X_test.shape))\n",
    "print (\"Y_test shape: \" + str(Y_test.shape))"
   ]
  },
  {
   "cell_type": "markdown",
   "metadata": {},
   "source": [
    "You can display the images contained in the dataset. Images are **64x64** pixels in RGB format (3 channels)."
   ]
  },
  {
   "cell_type": "code",
   "execution_count": 10,
   "metadata": {},
   "outputs": [
    {
     "data": {
      "image/png": "[encoded data removed]",
      "text/plain": [
       "<Figure size 640x480 with 1 Axes>"
      ]
     },
     "metadata": {},
     "output_type": "display_data"
    }
   ],
   "source": [
    "index = 124\n",
    "plt.imshow(X_train_orig[index]) #display sample training image\n",
    "plt.show()"
   ]
  },
  {
   "cell_type": "markdown",
   "metadata": {},
   "source": [
    "<a name='2'></a>\n",
    "## 2 - Layers in TF Keras \n",
    "\n",
    "In the previous assignment, you created layers manually in numpy. In TF Keras, you don't have to write code directly to create layers. Rather, TF Keras has pre-defined layers you can use. \n",
    "\n",
    "When you create a layer in TF Keras, you are creating a function that takes some input and transforms it into an output you can reuse later. Nice and easy! "
   ]
  },
  {
   "cell_type": "markdown",
   "metadata": {},
   "source": [
    "<a name='3'></a>\n",
    "## 3 - The Sequential API\n",
    "\n",
    "In the previous assignment, you built helper functions using `numpy` to understand the mechanics behind convolutional neural networks. Most practical applications of deep learning today are built using programming frameworks, which have many built-in functions you can simply call. Keras is a high-level abstraction built on top of TensorFlow, which allows for even more simplified and optimized model creation and training. \n",
    "\n",
    "For the first part of this assignment, you'll create a model using TF Keras' Sequential API, which allows you to build layer by layer, and is ideal for building models where each layer has **exactly one** input tensor and **one** output tensor. \n",
    "\n",
    "As you'll see, using the Sequential API is simple and straightforward, but is only appropriate for simpler, more straightforward tasks. Later in this notebook you'll spend some time building with a more flexible, powerful alternative: the Functional API. \n",
    " "
   ]
  },
  {
   "cell_type": "markdown",
   "metadata": {},
   "source": [
    "<a name='3-1'></a>\n",
    "### 3.1 - Create the Sequential Model\n",
    "\n",
    "As mentioned earlier, the TensorFlow Keras Sequential API can be used to build simple models with layer operations that proceed in a sequential order. \n",
    "\n",
    "You can also add layers incrementally to a Sequential model with the `.add()` method, or remove them using the `.pop()` method, much like you would in a regular Python list.\n",
    "\n",
    "Actually, you can think of a Sequential model as behaving like a list of layers. Like Python lists, Sequential layers are ordered, and the order in which they are specified matters.  If your model is non-linear or contains layers with multiple inputs or outputs, a Sequential model wouldn't be the right choice!\n",
    "\n",
    "For any layer construction in Keras, you'll need to specify the input shape in advance. This is because in Keras, the shape of the weights is based on the shape of the inputs. The weights are only created when the model first sees some input data. Sequential models can be created by passing a list of layers to the Sequential constructor, like you will do in the next assignment.\n",
    "\n",
    "<a name='ex-1'></a>\n",
    "### Exercise 1 - happyModel\n",
    "\n",
    "Implement the `happyModel` function below to build the following model: `ZEROPAD2D -> CONV2D -> BATCHNORM -> RELU -> MAXPOOL -> FLATTEN -> DENSE`. Take help from [tf.keras.layers](https://www.tensorflow.org/api_docs/python/tf/keras/layers) \n",
    "\n",
    "Also, plug in the following parameters for all the steps:\n",
    "\n",
    " - [ZeroPadding2D](https://www.tensorflow.org/api_docs/python/tf/keras/layers/ZeroPadding2D): padding 3, input shape 64 x 64 x 3\n",
    " - [Conv2D](https://www.tensorflow.org/api_docs/python/tf/keras/layers/Conv2D): Use 32 7x7 filters, stride 1\n",
    " - [BatchNormalization](https://www.tensorflow.org/api_docs/python/tf/keras/layers/BatchNormalization): for axis 3\n",
    " - [ReLU](https://www.tensorflow.org/api_docs/python/tf/keras/layers/ReLU)\n",
    " - [MaxPool2D](https://www.tensorflow.org/api_docs/python/tf/keras/layers/MaxPool2D): Using default parameters\n",
    " - [Flatten](https://www.tensorflow.org/api_docs/python/tf/keras/layers/Flatten) the previous output.\n",
    " - Fully-connected ([Dense](https://www.tensorflow.org/api_docs/python/tf/keras/layers/Dense)) layer: Apply a fully connected layer with 1 neuron and a sigmoid activation. \n",
    " \n",
    " \n",
    " **Hint:**\n",
    " \n",
    " Use **tfl** as shorthand for **tensorflow.keras.layers**"
   ]
  },
  {
   "cell_type": "code",
   "execution_count": 11,
   "metadata": {
    "deletable": false,
    "nbgrader": {
     "cell_type": "code",
     "checksum": "95d28b191f257bdd5b70c7b8952559d5",
     "grade": false,
     "grade_id": "cell-0e56d3fc28b69aec",
     "locked": false,
     "schema_version": 3,
     "solution": true,
     "task": false
    }
   },
   "outputs": [],
   "source": [
    "# GRADED FUNCTION: happyModel\n",
    "\n",
    "def happyModel():\n",
    "    \"\"\"\n",
    "    Implements the forward propagation for the binary classification model:\n",
    "    ZEROPAD2D -> CONV2D -> BATCHNORM -> RELU -> MAXPOOL -> FLATTEN -> DENSE\n",
    "    \n",
    "    Note that for simplicity and grading purposes, you'll hard-code all the values\n",
    "    such as the stride and kernel (filter) sizes. \n",
    "    Normally, functions should take these values as function parameters.\n",
    "    \n",
    "    Arguments:\n",
    "    None\n",
    "\n",
    "    Returns:\n",
    "    model -- TF Keras model (object containing the information for the entire training process) \n",
    "    \"\"\"\n",
    "    model = tf.keras.Sequential([\n",
    "            tf.keras.Input(shape=(64 , 64 ,3)),\n",
    "            ## ZeroPadding2D with padding 3, input shape of 64 x 64 x 3\n",
    "            tfl.ZeroPadding2D(padding=3), # As import tensorflow.keras.layers as tfl\n",
    "            ## Conv2D with 32 7x7 filters and stride of 1\n",
    "            tfl.Conv2D(filters=32,kernel_size=7,strides=1),\n",
    "            ## BatchNormalization for axis 3\n",
    "            tfl.BatchNormalization(axis=3, momentum=0.99, epsilon=0.001),\n",
    "            ## ReLU\n",
    "            tfl.ReLU(),\n",
    "            ## Max Pooling 2D with default parameters\n",
    "            tfl.MaxPool2D(),\n",
    "            ## Flatten layer\n",
    "            tfl.Flatten(),\n",
    "            ## Dense layer with 1 unit for output & 'sigmoid' activation\n",
    "            tfl.Dense(1,activation='sigmoid')\n",
    "        ])\n",
    "    \n",
    "    return model"
   ]
  },
  {
   "cell_type": "code",
   "execution_count": 12,
   "metadata": {
    "deletable": false,
    "editable": false,
    "nbgrader": {
     "cell_type": "code",
     "checksum": "8d3575c950e2e78149be2d05d671c80d",
     "grade": true,
     "grade_id": "cell-e3e1046e5c33d775",
     "locked": true,
     "points": 10,
     "schema_version": 3,
     "solution": false,
     "task": false
    }
   },
   "outputs": [
    {
     "name": "stdout",
     "output_type": "stream",
     "text": [
      "['ZeroPadding2D', (None, 70, 70, 3), 0, ((3, 3), (3, 3))]\n",
      "['Conv2D', (None, 64, 64, 32), 4736, 'valid', 'linear', 'GlorotUniform']\n",
      "['BatchNormalization', (None, 64, 64, 32), 128]\n",
      "['ReLU', (None, 64, 64, 32), 0]\n",
      "['MaxPooling2D', (None, 32, 32, 32), 0, (2, 2), (2, 2), 'valid']\n",
      "['Flatten', (None, 32768), 0]\n",
      "['Dense', (None, 1), 32769, 'sigmoid']\n",
      "All tests passed!\n"
     ]
    }
   ],
   "source": [
    "happy_model = happyModel()\n",
    "# Print a summary for each layer\n",
    "for layer in summary(happy_model):\n",
    "    print(layer)\n",
    "    \n",
    "output = [['ZeroPadding2D', (None, 70, 70, 3), 0, ((3, 3), (3, 3))],\n",
    "            ['Conv2D', (None, 64, 64, 32), 4736, 'valid', 'linear', 'GlorotUniform'],\n",
    "            ['BatchNormalization', (None, 64, 64, 32), 128],\n",
    "            ['ReLU', (None, 64, 64, 32), 0],\n",
    "            ['MaxPooling2D', (None, 32, 32, 32), 0, (2, 2), (2, 2), 'valid'],\n",
    "            ['Flatten', (None, 32768), 0],\n",
    "            ['Dense', (None, 1), 32769, 'sigmoid']]\n",
    "    \n",
    "comparator(summary(happy_model), output)"
   ]
  },
  {
   "cell_type": "markdown",
   "metadata": {},
   "source": [
    "Now that your model is created, you can compile it for training with an optimizer and loss of your choice. When the string `accuracy` is specified as a metric, the type of accuracy used will be automatically converted based on the loss function used. This is one of the many optimizations built into TensorFlow that make your life easier! If you'd like to read more on how the compiler operates, check the docs [here](https://www.tensorflow.org/api_docs/python/tf/keras/Model#compile)."
   ]
  },
  {
   "cell_type": "code",
   "execution_count": 13,
   "metadata": {},
   "outputs": [
    {
     "name": "stdout",
     "output_type": "stream",
     "text": [
      "WARNING:tensorflow:From D:\\APP\\conda\\conda\\envs\\mls\\lib\\site-packages\\tensorflow\\python\\ops\\nn_impl.py:180: add_dispatch_support.<locals>.wrapper (from tensorflow.python.ops.array_ops) is deprecated and will be removed in a future version.\n",
      "Instructions for updating:\n",
      "Use tf.where in 2.0, which has the same broadcast rule as np.where\n"
     ]
    }
   ],
   "source": [
    "happy_model.compile(optimizer='adam',\n",
    "                   loss='binary_crossentropy',\n",
    "                   metrics=['accuracy'])"
   ]
  },
  {
   "cell_type": "markdown",
   "metadata": {},
   "source": [
    "It's time to check your model's parameters with the `.summary()` method. This will display the types of layers you have, the shape of the outputs, and how many parameters are in each layer. "
   ]
  },
  {
   "cell_type": "code",
   "execution_count": 14,
   "metadata": {},
   "outputs": [
    {
     "name": "stdout",
     "output_type": "stream",
     "text": [
      "Model: \"sequential_1\"\n",
      "_________________________________________________________________\n",
      "Layer (type)                 Output Shape              Param #   \n",
      "=================================================================\n",
      "zero_padding2d_1 (ZeroPaddin (None, 70, 70, 3)         0         \n",
      "_________________________________________________________________\n",
      "conv2d_1 (Conv2D)            (None, 64, 64, 32)        4736      \n",
      "_________________________________________________________________\n",
      "batch_normalization_1 (Batch (None, 64, 64, 32)        128       \n",
      "_________________________________________________________________\n",
      "re_lu_1 (ReLU)               (None, 64, 64, 32)        0         \n",
      "_________________________________________________________________\n",
      "max_pooling2d_1 (MaxPooling2 (None, 32, 32, 32)        0         \n",
      "_________________________________________________________________\n",
      "flatten_1 (Flatten)          (None, 32768)             0         \n",
      "_________________________________________________________________\n",
      "dense_1 (Dense)              (None, 1)                 32769     \n",
      "=================================================================\n",
      "Total params: 37,633\n",
      "Trainable params: 37,569\n",
      "Non-trainable params: 64\n",
      "_________________________________________________________________\n"
     ]
    }
   ],
   "source": [
    "happy_model.summary()"
   ]
  },
  {
   "cell_type": "markdown",
   "metadata": {},
   "source": [
    "<a name='3-2'></a>\n",
    "### 3.2 - Train and Evaluate the Model\n",
    "\n",
    "After creating the model, compiling it with your choice of optimizer and loss function, and doing a sanity check on its contents, you are now ready to build! \n",
    "\n",
    "Simply call `.fit()` to train. That's it! No need for mini-batching, saving, or complex backpropagation computations. That's all been done for you, as you're using a TensorFlow dataset with the batches specified already. You do have the option to specify epoch number or minibatch size if you like (for example, in the case of an un-batched dataset)."
   ]
  },
  {
   "cell_type": "code",
   "execution_count": 15,
   "metadata": {},
   "outputs": [
    {
     "name": "stdout",
     "output_type": "stream",
     "text": [
      "Epoch 1/10\n",
      "600/600 [==============================] - 20s 34ms/sample - loss: 1.8967 - acc: 0.6567\n",
      "Epoch 2/10\n",
      "600/600 [==============================] - 11s 18ms/sample - loss: 0.4225 - acc: 0.8533\n",
      "Epoch 3/10\n",
      "600/600 [==============================] - 10s 17ms/sample - loss: 0.1811 - acc: 0.9433\n",
      "Epoch 4/10\n",
      "600/600 [==============================] - 9s 15ms/sample - loss: 0.1678 - acc: 0.9350\n",
      "Epoch 5/10\n",
      "600/600 [==============================] - 9s 15ms/sample - loss: 0.1402 - acc: 0.9500\n",
      "Epoch 6/10\n",
      "600/600 [==============================] - 8s 14ms/sample - loss: 0.1837 - acc: 0.9283\n",
      "Epoch 7/10\n",
      "600/600 [==============================] - 5s 9ms/sample - loss: 0.0795 - acc: 0.9717\n",
      "Epoch 8/10\n",
      "600/600 [==============================] - 5s 8ms/sample - loss: 0.0625 - acc: 0.9783\n",
      "Epoch 9/10\n",
      "600/600 [==============================] - 5s 9ms/sample - loss: 0.0826 - acc: 0.9750\n",
      "Epoch 10/10\n",
      "600/600 [==============================] - 5s 9ms/sample - loss: 0.0992 - acc: 0.9633\n"
     ]
    },
    {
     "data": {
      "text/plain": [
       "<tensorflow.python.keras.callbacks.History at 0x22110ddd548>"
      ]
     },
     "execution_count": 15,
     "metadata": {},
     "output_type": "execute_result"
    }
   ],
   "source": [
    "happy_model.fit(X_train, Y_train, epochs=10, batch_size=16)"
   ]
  },
  {
   "cell_type": "markdown",
   "metadata": {},
   "source": [
    "After that completes, just use `.evaluate()` to evaluate against your test set. This function will print the value of the loss function and the performance metrics specified during the compilation of the model. In this case, the `binary_crossentropy` and the `accuracy` respectively."
   ]
  },
  {
   "cell_type": "code",
   "execution_count": 16,
   "metadata": {},
   "outputs": [
    {
     "name": "stdout",
     "output_type": "stream",
     "text": [
      "150/150 [==============================] - 0s 2ms/sample - loss: 0.4927 - acc: 0.7533\n"
     ]
    },
    {
     "data": {
      "text/plain": [
       "[0.49267586986223855, 0.75333333]"
      ]
     },
     "execution_count": 16,
     "metadata": {},
     "output_type": "execute_result"
    }
   ],
   "source": [
    "happy_model.evaluate(X_test, Y_test)"
   ]
  },
  {
   "cell_type": "markdown",
   "metadata": {},
   "source": [
    "Easy, right? But what if you need to build a model with shared layers, branches, or multiple inputs and outputs? This is where Sequential, with its beautifully simple yet limited functionality, won't be able to help you. \n",
    "\n",
    "Next up: Enter the Functional API, your slightly more complex, highly flexible friend.  "
   ]
  },
  {
   "cell_type": "markdown",
   "metadata": {},
   "source": [
    "<a name='4'></a>\n",
    "## 4 - The Functional API"
   ]
  },
  {
   "cell_type": "markdown",
   "metadata": {},
   "source": [
    "Welcome to the second half of the assignment, where you'll use Keras' flexible [Functional API](https://www.tensorflow.org/guide/keras/functional) to build a ConvNet that can differentiate between 6 sign language digits. \n",
    "\n",
    "The Functional API can handle models with non-linear topology, shared layers, as well as layers with multiple inputs or outputs. Imagine that, where the Sequential API requires the model to move in a linear fashion through its layers, the Functional API allows much more flexibility. Where Sequential is a straight line, a Functional model is a graph, where the nodes of the layers can connect in many more ways than one. \n",
    "\n",
    "In the visual example below, the one possible direction of the movement Sequential model is shown in contrast to a skip connection, which is just one of the many ways a Functional model can be constructed. A skip connection, as you might have guessed, skips some layer in the network and feeds the output to a later layer in the network. Don't worry, you'll be spending more time with skip connections very soon! "
   ]
  },
  {
   "cell_type": "markdown",
   "metadata": {},
   "source": [
    "<img src=\"images/seq_vs_func.png\" style=\"width:350px;height:200px;\">"
   ]
  },
  {
   "cell_type": "markdown",
   "metadata": {},
   "source": [
    "<a name='4-1'></a>\n",
    "### 4.1 - Load the SIGNS Dataset\n",
    "\n",
    "As a reminder, the SIGNS dataset is a collection of 6 signs representing numbers from 0 to 5."
   ]
  },
  {
   "cell_type": "code",
   "execution_count": 17,
   "metadata": {},
   "outputs": [],
   "source": [
    "# Loading the data (signs)\n",
    "X_train_orig, Y_train_orig, X_test_orig, Y_test_orig, classes = load_signs_dataset()"
   ]
  },
  {
   "cell_type": "markdown",
   "metadata": {},
   "source": [
    "<img src=\"images/SIGNS.png\" style=\"width:800px;height:300px;\">\n",
    "\n",
    "The next cell will show you an example of a labelled image in the dataset. Feel free to change the value of `index` below and re-run to see different examples. "
   ]
  },
  {
   "cell_type": "code",
   "execution_count": 18,
   "metadata": {},
   "outputs": [
    {
     "name": "stdout",
     "output_type": "stream",
     "text": [
      "y = 4\n"
     ]
    },
    {
     "data": {
      "image/png": "[encoded data removed]",
      "text/plain": [
       "<Figure size 640x480 with 1 Axes>"
      ]
     },
     "metadata": {},
     "output_type": "display_data"
    }
   ],
   "source": [
    "# Example of an image from the dataset\n",
    "index = 9\n",
    "plt.imshow(X_train_orig[index])\n",
    "print (\"y = \" + str(np.squeeze(Y_train_orig[:, index])))"
   ]
  },
  {
   "cell_type": "markdown",
   "metadata": {},
   "source": [
    "<a name='4-2'></a>\n",
    "### 4.2 - Split the Data into Train/Test Sets\n",
    "\n",
    "In Course 2, you built a fully-connected network for this dataset. But since this is an image dataset, it is more natural to apply a ConvNet to it.\n",
    "\n",
    "To get started, let's examine the shapes of your data. "
   ]
  },
  {
   "cell_type": "code",
   "execution_count": 19,
   "metadata": {},
   "outputs": [
    {
     "name": "stdout",
     "output_type": "stream",
     "text": [
      "number of training examples = 1080\n",
      "number of test examples = 120\n",
      "X_train shape: (1080, 64, 64, 3)\n",
      "Y_train shape: (1080, 6)\n",
      "X_test shape: (120, 64, 64, 3)\n",
      "Y_test shape: (120, 6)\n"
     ]
    }
   ],
   "source": [
    "X_train = X_train_orig/255.\n",
    "X_test = X_test_orig/255.\n",
    "Y_train = convert_to_one_hot(Y_train_orig, 6).T\n",
    "Y_test = convert_to_one_hot(Y_test_orig, 6).T\n",
    "print (\"number of training examples = \" + str(X_train.shape[0]))\n",
    "print (\"number of test examples = \" + str(X_test.shape[0]))\n",
    "print (\"X_train shape: \" + str(X_train.shape))\n",
    "print (\"Y_train shape: \" + str(Y_train.shape))\n",
    "print (\"X_test shape: \" + str(X_test.shape))\n",
    "print (\"Y_test shape: \" + str(Y_test.shape))"
   ]
  },
  {
   "cell_type": "markdown",
   "metadata": {},
   "source": [
    "<a name='4-3'></a>\n",
    "### 4.3 - Forward Propagation\n",
    "\n",
    "In TensorFlow, there are built-in functions that implement the convolution steps for you. By now, you should be familiar with how TensorFlow builds computational graphs. In the [Functional API](https://www.tensorflow.org/guide/keras/functional), you create a graph of layers. This is what allows such great flexibility.\n",
    "\n",
    "However, the following model could also be defined using the Sequential API since the information flow is on a single line. But don't deviate. What we want you to learn is to use the functional API.\n",
    "\n",
    "Begin building your graph of layers by creating an input node that functions as a callable object:\n",
    "\n",
    "- **input_img = tf.keras.Input(shape=input_shape):** \n",
    "\n",
    "Then, create a new node in the graph of layers by calling a layer on the `input_img` object: \n",
    "\n",
    "- **tf.keras.layers.Conv2D(filters= ... , kernel_size= ... , padding='same')(input_img):** Read the full documentation on [Conv2D](https://www.tensorflow.org/api_docs/python/tf/keras/layers/Conv2D).\n",
    "\n",
    "- **tf.keras.layers.MaxPool2D(pool_size=(f, f), strides=(s, s), padding='same'):** `MaxPool2D()` downsamples your input using a window of size (f, f) and strides of size (s, s) to carry out max pooling over each window.  For max pooling, you usually operate on a single example at a time and a single channel at a time. Read the full documentation on [MaxPool2D](https://www.tensorflow.org/api_docs/python/tf/keras/layers/MaxPool2D).\n",
    "\n",
    "- **tf.keras.layers.ReLU():** computes the elementwise ReLU of Z (which can be any shape). You can read the full documentation on [ReLU](https://www.tensorflow.org/api_docs/python/tf/keras/layers/ReLU).\n",
    "\n",
    "- **tf.keras.layers.Flatten()**: given a tensor \"P\", this function takes each training (or test) example in the batch and flattens it into a 1D vector.  \n",
    "\n",
    "    * If a tensor P has the shape (batch_size,h,w,c), it returns a flattened tensor with shape (batch_size, k), where $k=h \\times w \\times c$.  \"k\" equals the product of all the dimension sizes other than the first dimension.\n",
    "    \n",
    "    * For example, given a tensor with dimensions [100, 2, 3, 4], it flattens the tensor to be of shape [100, 24], where 24 = 2 * 3 * 4.  You can read the full documentation on [Flatten](https://www.tensorflow.org/api_docs/python/tf/keras/layers/Flatten).\n",
    "\n",
    "- **tf.keras.layers.Dense(units= ... , activation='softmax')(F):** given the flattened input F, it returns the output computed using a fully connected layer. You can read the full documentation on [Dense](https://www.tensorflow.org/api_docs/python/tf/keras/layers/Dense).\n",
    "\n",
    "In the last function above (`tf.keras.layers.Dense()`), the fully connected layer automatically initializes weights in the graph and keeps on training them as you train the model. Hence, you did not need to initialize those weights when initializing the parameters.\n",
    "\n",
    "Lastly, before creating the model, you'll need to define the output using the last of the function's compositions (in this example, a Dense layer): \n",
    "\n",
    "- **outputs = tf.keras.layers.Dense(units=6, activation='softmax')(F)**\n",
    "\n",
    "\n",
    "#### Window, kernel, filter, pool\n",
    "\n",
    "The words \"kernel\" and \"filter\" are used to refer to the same thing. The word \"filter\" accounts for the amount of \"kernels\" that will be used in a single convolution layer. \"Pool\" is the name of the operation that takes the max or average value of the kernels. \n",
    "\n",
    "This is why the parameter `pool_size` refers to `kernel_size`, and you use `(f,f)` to refer to the filter size. \n",
    "\n",
    "Pool size and kernel size refer to the same thing in different objects - They refer to the shape of the window where the operation takes place. "
   ]
  },
  {
   "cell_type": "markdown",
   "metadata": {},
   "source": [
    "<a name='ex-2'></a>\n",
    "### Exercise 2 - convolutional_model\n",
    "\n",
    "Implement the `convolutional_model` function below to build the following model: `CONV2D -> RELU -> MAXPOOL -> CONV2D -> RELU -> MAXPOOL -> FLATTEN -> DENSE`. Use the functions above! \n",
    "\n",
    "Also, plug in the following parameters for all the steps:\n",
    "\n",
    " - [Conv2D](https://www.tensorflow.org/api_docs/python/tf/keras/layers/Conv2D): Use 8 4 by 4 filters, stride 1, padding is \"SAME\"\n",
    " - [ReLU](https://www.tensorflow.org/api_docs/python/tf/keras/layers/ReLU)\n",
    " - [MaxPool2D](https://www.tensorflow.org/api_docs/python/tf/keras/layers/MaxPool2D): Use an 8 by 8 filter size and an 8 by 8 stride, padding is \"SAME\"\n",
    " - **Conv2D**: Use 16 2 by 2 filters, stride 1, padding is \"SAME\"\n",
    " - **ReLU**\n",
    " - **MaxPool2D**: Use a 4 by 4 filter size and a 4 by 4 stride, padding is \"SAME\"\n",
    " - [Flatten](https://www.tensorflow.org/api_docs/python/tf/keras/layers/Flatten) the previous output.\n",
    " - Fully-connected ([Dense](https://www.tensorflow.org/api_docs/python/tf/keras/layers/Dense)) layer: Apply a fully connected layer with 6 neurons and a softmax activation. "
   ]
  },
  {
   "cell_type": "code",
   "execution_count": 24,
   "metadata": {
    "deletable": false,
    "nbgrader": {
     "cell_type": "code",
     "checksum": "f58643806aa8380c96225fc8b4c5e7aa",
     "grade": false,
     "grade_id": "cell-dac51744a9e03f51",
     "locked": false,
     "schema_version": 3,
     "solution": true,
     "task": false
    }
   },
   "outputs": [],
   "source": [
    "# GRADED FUNCTION: convolutional_model\n",
    "\n",
    "def convolutional_model(input_shape):\n",
    "    \"\"\"\n",
    "    Implements the forward propagation for the model:\n",
    "    CONV2D -> RELU -> MAXPOOL -> CONV2D -> RELU -> MAXPOOL -> FLATTEN -> DENSE\n",
    "    \n",
    "    Note that for simplicity and grading purposes, you'll hard-code some values\n",
    "    such as the stride and kernel (filter) sizes. \n",
    "    Normally, functions should take these values as function parameters.\n",
    "    \n",
    "    Arguments:\n",
    "    input_img -- input dataset, of shape (input_shape)\n",
    "\n",
    "    Returns:\n",
    "    model -- TF Keras model (object containing the information for the entire training process) \n",
    "    \"\"\"\n",
    "\n",
    "    input_img = tf.keras.Input(shape=input_shape)\n",
    "    ## CONV2D: 8 filters 4x4, stride of 1, padding 'SAME'\n",
    "    Z1 = tfl.Conv2D(filters= 8, kernel_size=4 , padding='same',strides=1)(input_img)\n",
    "    ## RELU\n",
    "    A1 = tfl.ReLU()(Z1)\n",
    "    ## MAXPOOL: window 8x8, stride 8, padding 'SAME'\n",
    "    P1 = tfl.MaxPool2D(pool_size=8, strides=8, padding='SAME')(A1)\n",
    "    ## CONV2D: 16 filters 2x2, stride 1, padding 'SAME'\n",
    "    Z2 = tfl.Conv2D(filters= 16 , kernel_size=2 , padding='same',strides=1)(P1)\n",
    "    ## RELU\n",
    "    A2 =  tfl.ReLU()(Z2)\n",
    "    ## MAXPOOL: window 4x4, stride 4, padding 'SAME'\n",
    "    P2 = tfl.MaxPool2D(pool_size=4, strides=4, padding='SAME')(A2)\n",
    "    ## FLATTEN\n",
    "    F = tfl.Flatten()(P2)\n",
    "    ## Dense layer\n",
    "    ## 6 neurons in output layer. Hint: one of the arguments should be \"activation='softmax'\" \n",
    "    outputs = tfl.Dense(units= 6 , activation='softmax')(F)\n",
    "    model = tf.keras.Model(inputs=input_img, outputs=outputs)\n",
    "    return model"
   ]
  },
  {
   "cell_type": "code",
   "execution_count": 25,
   "metadata": {
    "deletable": false,
    "editable": false,
    "nbgrader": {
     "cell_type": "code",
     "checksum": "483d626949930a0b0ef20997e7c6ba72",
     "grade": true,
     "grade_id": "cell-45d22e92042174c9",
     "locked": true,
     "points": 10,
     "schema_version": 3,
     "solution": false,
     "task": false
    }
   },
   "outputs": [
    {
     "name": "stdout",
     "output_type": "stream",
     "text": [
      "Model: \"model\"\n",
      "_________________________________________________________________\n",
      "Layer (type)                 Output Shape              Param #   \n",
      "=================================================================\n",
      "input_5 (InputLayer)         [(None, 64, 64, 3)]       0         \n",
      "_________________________________________________________________\n",
      "conv2d_5 (Conv2D)            (None, 64, 64, 8)         392       \n",
      "_________________________________________________________________\n",
      "re_lu_3 (ReLU)               (None, 64, 64, 8)         0         \n",
      "_________________________________________________________________\n",
      "max_pooling2d_3 (MaxPooling2 (None, 8, 8, 8)           0         \n",
      "_________________________________________________________________\n",
      "conv2d_6 (Conv2D)            (None, 8, 8, 16)          528       \n",
      "_________________________________________________________________\n",
      "re_lu_4 (ReLU)               (None, 8, 8, 16)          0         \n",
      "_________________________________________________________________\n",
      "max_pooling2d_4 (MaxPooling2 (None, 2, 2, 16)          0         \n",
      "_________________________________________________________________\n",
      "flatten_2 (Flatten)          (None, 64)                0         \n",
      "_________________________________________________________________\n",
      "dense_2 (Dense)              (None, 6)                 390       \n",
      "=================================================================\n",
      "Total params: 1,310\n",
      "Trainable params: 1,310\n",
      "Non-trainable params: 0\n",
      "_________________________________________________________________\n",
      "All tests passed!\n"
     ]
    }
   ],
   "source": [
    "conv_model = convolutional_model((64, 64, 3))\n",
    "conv_model.compile(optimizer='adam',\n",
    "                  loss='categorical_crossentropy',\n",
    "                  metrics=['accuracy'])\n",
    "conv_model.summary()\n",
    "    \n",
    "output = [['InputLayer', [(None, 64, 64, 3)], 0],\n",
    "        ['Conv2D', (None, 64, 64, 8), 392, 'same', 'linear', 'GlorotUniform'],\n",
    "        ['ReLU', (None, 64, 64, 8), 0],\n",
    "        ['MaxPooling2D', (None, 8, 8, 8), 0, (8, 8), (8, 8), 'same'],\n",
    "        ['Conv2D', (None, 8, 8, 16), 528, 'same', 'linear', 'GlorotUniform'],\n",
    "        ['ReLU', (None, 8, 8, 16), 0],\n",
    "        ['MaxPooling2D', (None, 2, 2, 16), 0, (4, 4), (4, 4), 'same'],\n",
    "        ['Flatten', (None, 64), 0],\n",
    "        ['Dense', (None, 6), 390, 'softmax']]\n",
    "    \n",
    "comparator(summary(conv_model), output)"
   ]
  },
  {
   "cell_type": "markdown",
   "metadata": {},
   "source": [
    "Both the Sequential and Functional APIs return a TF Keras model object. The only difference is how inputs are handled inside the object model! "
   ]
  },
  {
   "cell_type": "markdown",
   "metadata": {},
   "source": [
    "<a name='4-4'></a>\n",
    "### 4.4 - Train the Model"
   ]
  },
  {
   "cell_type": "code",
   "execution_count": 26,
   "metadata": {},
   "outputs": [
    {
     "name": "stdout",
     "output_type": "stream",
     "text": [
      "WARNING:tensorflow:Expected a shuffled dataset but input dataset `x` is not shuffled. Please invoke `shuffle()` on input dataset.\n",
      "Epoch 1/100\n",
      "17/17 [==============================] - 2s 110ms/step - loss: 1.8148 - acc: 0.1611 - val_loss: 1.7895 - val_acc: 0.1833\n",
      "Epoch 2/100\n",
      "17/17 [==============================] - 1s 50ms/step - loss: 1.7907 - acc: 0.1889 - val_loss: 1.7843 - val_acc: 0.2583\n",
      "Epoch 3/100\n",
      "17/17 [==============================] - 1s 53ms/step - loss: 1.7842 - acc: 0.2269 - val_loss: 1.7810 - val_acc: 0.2167\n",
      "Epoch 4/100\n",
      "17/17 [==============================] - 1s 54ms/step - loss: 1.7798 - acc: 0.2574 - val_loss: 1.7767 - val_acc: 0.3333\n",
      "Epoch 5/100\n",
      "17/17 [==============================] - 1s 52ms/step - loss: 1.7743 - acc: 0.2787 - val_loss: 1.7723 - val_acc: 0.3250\n",
      "Epoch 6/100\n",
      "17/17 [==============================] - 1s 55ms/step - loss: 1.7689 - acc: 0.2991 - val_loss: 1.7668 - val_acc: 0.3750\n",
      "Epoch 7/100\n",
      "17/17 [==============================] - 1s 55ms/step - loss: 1.7619 - acc: 0.3370 - val_loss: 1.7603 - val_acc: 0.4167\n",
      "Epoch 8/100\n",
      "17/17 [==============================] - 1s 56ms/step - loss: 1.7540 - acc: 0.3667 - val_loss: 1.7513 - val_acc: 0.4167\n",
      "Epoch 9/100\n",
      "17/17 [==============================] - 1s 54ms/step - loss: 1.7455 - acc: 0.3843 - val_loss: 1.7416 - val_acc: 0.4250\n",
      "Epoch 10/100\n",
      "17/17 [==============================] - 1s 58ms/step - loss: 1.7344 - acc: 0.4009 - val_loss: 1.7291 - val_acc: 0.4417\n",
      "Epoch 11/100\n",
      "17/17 [==============================] - 1s 85ms/step - loss: 1.7203 - acc: 0.4222 - val_loss: 1.7140 - val_acc: 0.4500\n",
      "Epoch 12/100\n",
      "17/17 [==============================] - 1s 64ms/step - loss: 1.7032 - acc: 0.4565 - val_loss: 1.6956 - val_acc: 0.4500\n",
      "Epoch 13/100\n",
      "17/17 [==============================] - 1s 52ms/step - loss: 1.6821 - acc: 0.4694 - val_loss: 1.6726 - val_acc: 0.4750\n",
      "Epoch 14/100\n",
      "17/17 [==============================] - 1s 53ms/step - loss: 1.6563 - acc: 0.4852 - val_loss: 1.6451 - val_acc: 0.5417\n",
      "Epoch 15/100\n",
      "17/17 [==============================] - 1s 51ms/step - loss: 1.6240 - acc: 0.5046 - val_loss: 1.6105 - val_acc: 0.5417\n",
      "Epoch 16/100\n",
      "17/17 [==============================] - 1s 54ms/step - loss: 1.5859 - acc: 0.5278 - val_loss: 1.5724 - val_acc: 0.5750\n",
      "Epoch 17/100\n",
      "17/17 [==============================] - 1s 56ms/step - loss: 1.5418 - acc: 0.5472 - val_loss: 1.5289 - val_acc: 0.5833\n",
      "Epoch 18/100\n",
      "17/17 [==============================] - 1s 55ms/step - loss: 1.4934 - acc: 0.5657 - val_loss: 1.4785 - val_acc: 0.6083\n",
      "Epoch 19/100\n",
      "17/17 [==============================] - 1s 55ms/step - loss: 1.4407 - acc: 0.5852 - val_loss: 1.4247 - val_acc: 0.6083\n",
      "Epoch 20/100\n",
      "17/17 [==============================] - 1s 54ms/step - loss: 1.3858 - acc: 0.6176 - val_loss: 1.3699 - val_acc: 0.6083\n",
      "Epoch 21/100\n",
      "17/17 [==============================] - 1s 55ms/step - loss: 1.3257 - acc: 0.6176 - val_loss: 1.3114 - val_acc: 0.6250\n",
      "Epoch 22/100\n",
      "17/17 [==============================] - 1s 58ms/step - loss: 1.2672 - acc: 0.6333 - val_loss: 1.2501 - val_acc: 0.6917\n",
      "Epoch 23/100\n",
      "17/17 [==============================] - 1s 53ms/step - loss: 1.2101 - acc: 0.6546 - val_loss: 1.1967 - val_acc: 0.6750\n",
      "Epoch 24/100\n",
      "17/17 [==============================] - 1s 62ms/step - loss: 1.1563 - acc: 0.6722 - val_loss: 1.1499 - val_acc: 0.6833\n",
      "Epoch 25/100\n",
      "17/17 [==============================] - 1s 71ms/step - loss: 1.1063 - acc: 0.6741 - val_loss: 1.1000 - val_acc: 0.6917\n",
      "Epoch 26/100\n",
      "17/17 [==============================] - 1s 75ms/step - loss: 1.0601 - acc: 0.6833 - val_loss: 1.0562 - val_acc: 0.7000\n",
      "Epoch 27/100\n",
      "17/17 [==============================] - 1s 53ms/step - loss: 1.0165 - acc: 0.7046 - val_loss: 1.0135 - val_acc: 0.7250\n",
      "Epoch 28/100\n",
      "17/17 [==============================] - 1s 57ms/step - loss: 0.9815 - acc: 0.7102 - val_loss: 0.9809 - val_acc: 0.7167\n",
      "Epoch 29/100\n",
      "17/17 [==============================] - 1s 72ms/step - loss: 0.9429 - acc: 0.7213 - val_loss: 0.9443 - val_acc: 0.7250\n",
      "Epoch 30/100\n",
      "17/17 [==============================] - 1s 57ms/step - loss: 0.9106 - acc: 0.7324 - val_loss: 0.9153 - val_acc: 0.7333\n",
      "Epoch 31/100\n",
      "17/17 [==============================] - 1s 72ms/step - loss: 0.8799 - acc: 0.7380 - val_loss: 0.8870 - val_acc: 0.7333\n",
      "Epoch 32/100\n",
      "17/17 [==============================] - 2s 104ms/step - loss: 0.8508 - acc: 0.7481 - val_loss: 0.8609 - val_acc: 0.7417\n",
      "Epoch 33/100\n",
      "17/17 [==============================] - 1s 71ms/step - loss: 0.8255 - acc: 0.7602 - val_loss: 0.8373 - val_acc: 0.7417\n",
      "Epoch 34/100\n",
      "17/17 [==============================] - 1s 50ms/step - loss: 0.8012 - acc: 0.7704 - val_loss: 0.8147 - val_acc: 0.7500\n",
      "Epoch 35/100\n",
      "17/17 [==============================] - 1s 47ms/step - loss: 0.7788 - acc: 0.7796 - val_loss: 0.7936 - val_acc: 0.7667\n",
      "Epoch 36/100\n",
      "17/17 [==============================] - 1s 49ms/step - loss: 0.7572 - acc: 0.7843 - val_loss: 0.7727 - val_acc: 0.7750\n",
      "Epoch 37/100\n",
      "17/17 [==============================] - 1s 49ms/step - loss: 0.7374 - acc: 0.7898 - val_loss: 0.7539 - val_acc: 0.7667\n",
      "Epoch 38/100\n",
      "17/17 [==============================] - 1s 50ms/step - loss: 0.7175 - acc: 0.7917 - val_loss: 0.7379 - val_acc: 0.7750\n",
      "Epoch 39/100\n",
      "17/17 [==============================] - 1s 48ms/step - loss: 0.7007 - acc: 0.8009 - val_loss: 0.7206 - val_acc: 0.7750\n",
      "Epoch 40/100\n",
      "17/17 [==============================] - 1s 49ms/step - loss: 0.6824 - acc: 0.8102 - val_loss: 0.7042 - val_acc: 0.7917\n",
      "Epoch 41/100\n",
      "17/17 [==============================] - 1s 72ms/step - loss: 0.6660 - acc: 0.8148 - val_loss: 0.6903 - val_acc: 0.7833\n",
      "Epoch 42/100\n",
      "17/17 [==============================] - 2s 92ms/step - loss: 0.6509 - acc: 0.8167 - val_loss: 0.6774 - val_acc: 0.7833\n",
      "Epoch 43/100\n",
      "17/17 [==============================] - 1s 83ms/step - loss: 0.6368 - acc: 0.8167 - val_loss: 0.6644 - val_acc: 0.8083\n",
      "Epoch 44/100\n",
      "17/17 [==============================] - 1s 58ms/step - loss: 0.6224 - acc: 0.8185 - val_loss: 0.6520 - val_acc: 0.8083\n",
      "Epoch 45/100\n",
      "17/17 [==============================] - 1s 49ms/step - loss: 0.6099 - acc: 0.8241 - val_loss: 0.6406 - val_acc: 0.8167\n",
      "Epoch 46/100\n",
      "17/17 [==============================] - 1s 61ms/step - loss: 0.5963 - acc: 0.8287 - val_loss: 0.6295 - val_acc: 0.8167\n",
      "Epoch 47/100\n",
      "17/17 [==============================] - 1s 59ms/step - loss: 0.5849 - acc: 0.8287 - val_loss: 0.6197 - val_acc: 0.8167\n",
      "Epoch 48/100\n",
      "17/17 [==============================] - 2s 107ms/step - loss: 0.5723 - acc: 0.8370 - val_loss: 0.6089 - val_acc: 0.8167\n",
      "Epoch 49/100\n",
      "17/17 [==============================] - 2s 94ms/step - loss: 0.5616 - acc: 0.8389 - val_loss: 0.5990 - val_acc: 0.8167\n",
      "Epoch 50/100\n",
      "17/17 [==============================] - 2s 88ms/step - loss: 0.5506 - acc: 0.8435 - val_loss: 0.5894 - val_acc: 0.8167\n",
      "Epoch 51/100\n",
      "17/17 [==============================] - 1s 66ms/step - loss: 0.5402 - acc: 0.8481 - val_loss: 0.5798 - val_acc: 0.8167\n",
      "Epoch 52/100\n",
      "17/17 [==============================] - 1s 59ms/step - loss: 0.5303 - acc: 0.8528 - val_loss: 0.5710 - val_acc: 0.8167\n",
      "Epoch 53/100\n",
      "17/17 [==============================] - 1s 64ms/step - loss: 0.5208 - acc: 0.8528 - val_loss: 0.5634 - val_acc: 0.8167\n",
      "Epoch 54/100\n",
      "17/17 [==============================] - 1s 65ms/step - loss: 0.5115 - acc: 0.8593 - val_loss: 0.5538 - val_acc: 0.8167\n",
      "Epoch 55/100\n",
      "17/17 [==============================] - 1s 63ms/step - loss: 0.5025 - acc: 0.8593 - val_loss: 0.5460 - val_acc: 0.8167\n",
      "Epoch 56/100\n",
      "17/17 [==============================] - 1s 59ms/step - loss: 0.4942 - acc: 0.8602 - val_loss: 0.5395 - val_acc: 0.8167\n",
      "Epoch 57/100\n",
      "17/17 [==============================] - 1s 76ms/step - loss: 0.4855 - acc: 0.8611 - val_loss: 0.5314 - val_acc: 0.8167\n",
      "Epoch 58/100\n",
      "17/17 [==============================] - 2s 125ms/step - loss: 0.4776 - acc: 0.8639 - val_loss: 0.5248 - val_acc: 0.8167\n",
      "Epoch 59/100\n",
      "17/17 [==============================] - 2s 109ms/step - loss: 0.4705 - acc: 0.8685 - val_loss: 0.5194 - val_acc: 0.8167\n",
      "Epoch 60/100\n",
      "17/17 [==============================] - 2s 116ms/step - loss: 0.4625 - acc: 0.8694 - val_loss: 0.5116 - val_acc: 0.8083\n",
      "Epoch 61/100\n"
     ]
    },
    {
     "name": "stdout",
     "output_type": "stream",
     "text": [
      "17/17 [==============================] - 2s 105ms/step - loss: 0.4556 - acc: 0.8713 - val_loss: 0.5054 - val_acc: 0.8083\n",
      "Epoch 62/100\n",
      "17/17 [==============================] - 1s 84ms/step - loss: 0.4486 - acc: 0.8722 - val_loss: 0.4998 - val_acc: 0.8083\n",
      "Epoch 63/100\n",
      "17/17 [==============================] - 1s 85ms/step - loss: 0.4420 - acc: 0.8741 - val_loss: 0.4945 - val_acc: 0.8250\n",
      "Epoch 64/100\n",
      "17/17 [==============================] - 2s 103ms/step - loss: 0.4350 - acc: 0.8759 - val_loss: 0.4880 - val_acc: 0.8250\n",
      "Epoch 65/100\n",
      "17/17 [==============================] - 2s 90ms/step - loss: 0.4296 - acc: 0.8787 - val_loss: 0.4819 - val_acc: 0.8250\n",
      "Epoch 66/100\n",
      "17/17 [==============================] - 1s 88ms/step - loss: 0.4233 - acc: 0.8833 - val_loss: 0.4773 - val_acc: 0.8250\n",
      "Epoch 67/100\n",
      "17/17 [==============================] - 2s 99ms/step - loss: 0.4173 - acc: 0.8852 - val_loss: 0.4726 - val_acc: 0.8250\n",
      "Epoch 68/100\n",
      "17/17 [==============================] - 1s 85ms/step - loss: 0.4112 - acc: 0.8861 - val_loss: 0.4684 - val_acc: 0.8250\n",
      "Epoch 69/100\n",
      "17/17 [==============================] - 2s 92ms/step - loss: 0.4062 - acc: 0.8880 - val_loss: 0.4634 - val_acc: 0.8333\n",
      "Epoch 70/100\n",
      "17/17 [==============================] - 2s 116ms/step - loss: 0.4009 - acc: 0.8880 - val_loss: 0.4590 - val_acc: 0.8417\n",
      "Epoch 71/100\n",
      "17/17 [==============================] - 1s 84ms/step - loss: 0.3959 - acc: 0.8880 - val_loss: 0.4547 - val_acc: 0.8417\n",
      "Epoch 72/100\n",
      "17/17 [==============================] - 1s 84ms/step - loss: 0.3914 - acc: 0.8880 - val_loss: 0.4507 - val_acc: 0.8500\n",
      "Epoch 73/100\n",
      "17/17 [==============================] - 2s 91ms/step - loss: 0.3867 - acc: 0.8870 - val_loss: 0.4464 - val_acc: 0.8500\n",
      "Epoch 74/100\n",
      "17/17 [==============================] - 2s 98ms/step - loss: 0.3819 - acc: 0.8889 - val_loss: 0.4429 - val_acc: 0.8500\n",
      "Epoch 75/100\n",
      "17/17 [==============================] - 2s 91ms/step - loss: 0.3780 - acc: 0.8898 - val_loss: 0.4387 - val_acc: 0.8500\n",
      "Epoch 76/100\n",
      "17/17 [==============================] - 2s 92ms/step - loss: 0.3738 - acc: 0.8889 - val_loss: 0.4352 - val_acc: 0.8417\n",
      "Epoch 77/100\n",
      "17/17 [==============================] - 2s 120ms/step - loss: 0.3705 - acc: 0.8880 - val_loss: 0.4323 - val_acc: 0.8417\n",
      "Epoch 78/100\n",
      "17/17 [==============================] - 2s 125ms/step - loss: 0.3668 - acc: 0.8870 - val_loss: 0.4294 - val_acc: 0.8417\n",
      "Epoch 79/100\n",
      "17/17 [==============================] - 2s 119ms/step - loss: 0.3633 - acc: 0.8861 - val_loss: 0.4280 - val_acc: 0.8500\n",
      "Epoch 80/100\n",
      "17/17 [==============================] - 2s 110ms/step - loss: 0.3596 - acc: 0.8861 - val_loss: 0.4258 - val_acc: 0.8500\n",
      "Epoch 81/100\n",
      "17/17 [==============================] - 3s 153ms/step - loss: 0.3559 - acc: 0.8870 - val_loss: 0.4244 - val_acc: 0.8500\n",
      "Epoch 82/100\n",
      "17/17 [==============================] - 2s 130ms/step - loss: 0.3522 - acc: 0.8889 - val_loss: 0.4230 - val_acc: 0.8417\n",
      "Epoch 83/100\n",
      "17/17 [==============================] - 2s 125ms/step - loss: 0.3488 - acc: 0.8898 - val_loss: 0.4211 - val_acc: 0.8417\n",
      "Epoch 84/100\n",
      "17/17 [==============================] - 2s 131ms/step - loss: 0.3455 - acc: 0.8898 - val_loss: 0.4197 - val_acc: 0.8500\n",
      "Epoch 85/100\n",
      "17/17 [==============================] - 2s 121ms/step - loss: 0.3420 - acc: 0.8898 - val_loss: 0.4178 - val_acc: 0.8500\n",
      "Epoch 86/100\n",
      "17/17 [==============================] - 2s 133ms/step - loss: 0.3384 - acc: 0.8917 - val_loss: 0.4167 - val_acc: 0.8500\n",
      "Epoch 87/100\n",
      "17/17 [==============================] - 2s 128ms/step - loss: 0.3352 - acc: 0.8944 - val_loss: 0.4150 - val_acc: 0.8417\n",
      "Epoch 88/100\n",
      "17/17 [==============================] - 2s 113ms/step - loss: 0.3313 - acc: 0.8935 - val_loss: 0.4127 - val_acc: 0.8417\n",
      "Epoch 89/100\n",
      "17/17 [==============================] - 2s 121ms/step - loss: 0.3279 - acc: 0.8935 - val_loss: 0.4112 - val_acc: 0.8417\n",
      "Epoch 90/100\n",
      "17/17 [==============================] - 2s 119ms/step - loss: 0.3243 - acc: 0.8935 - val_loss: 0.4087 - val_acc: 0.8417\n",
      "Epoch 91/100\n",
      "17/17 [==============================] - 2s 114ms/step - loss: 0.3210 - acc: 0.8944 - val_loss: 0.4067 - val_acc: 0.8417\n",
      "Epoch 92/100\n",
      "17/17 [==============================] - 2s 115ms/step - loss: 0.3169 - acc: 0.8954 - val_loss: 0.4051 - val_acc: 0.8500\n",
      "Epoch 93/100\n",
      "17/17 [==============================] - 2s 140ms/step - loss: 0.3140 - acc: 0.8972 - val_loss: 0.4021 - val_acc: 0.8500\n",
      "Epoch 94/100\n",
      "17/17 [==============================] - 2s 127ms/step - loss: 0.3103 - acc: 0.8981 - val_loss: 0.4002 - val_acc: 0.8500\n",
      "Epoch 95/100\n",
      "17/17 [==============================] - 2s 121ms/step - loss: 0.3076 - acc: 0.8981 - val_loss: 0.3973 - val_acc: 0.8583\n",
      "Epoch 96/100\n",
      "17/17 [==============================] - 2s 125ms/step - loss: 0.3042 - acc: 0.8991 - val_loss: 0.3969 - val_acc: 0.8583\n",
      "Epoch 97/100\n",
      "17/17 [==============================] - 2s 140ms/step - loss: 0.3011 - acc: 0.9019 - val_loss: 0.3938 - val_acc: 0.8583\n",
      "Epoch 98/100\n",
      "17/17 [==============================] - 2s 130ms/step - loss: 0.2980 - acc: 0.9028 - val_loss: 0.3921 - val_acc: 0.8583\n",
      "Epoch 99/100\n",
      "17/17 [==============================] - 2s 129ms/step - loss: 0.2950 - acc: 0.9037 - val_loss: 0.3902 - val_acc: 0.8667\n",
      "Epoch 100/100\n",
      "17/17 [==============================] - 2s 123ms/step - loss: 0.2921 - acc: 0.9037 - val_loss: 0.3885 - val_acc: 0.8667\n"
     ]
    }
   ],
   "source": [
    "train_dataset = tf.data.Dataset.from_tensor_slices((X_train, Y_train)).batch(64)\n",
    "test_dataset = tf.data.Dataset.from_tensor_slices((X_test, Y_test)).batch(64)\n",
    "history = conv_model.fit(train_dataset, epochs=100, validation_data=test_dataset)"
   ]
  },
  {
   "cell_type": "markdown",
   "metadata": {},
   "source": [
    "<a name='5'></a>\n",
    "## 5 - History Object \n",
    "\n",
    "The history object is an output of the `.fit()` operation, and provides a record of all the loss and metric values in memory. It's stored as a dictionary that you can retrieve at `history.history`: "
   ]
  },
  {
   "cell_type": "code",
   "execution_count": null,
   "metadata": {},
   "outputs": [],
   "source": [
    "history.history"
   ]
  },
  {
   "cell_type": "markdown",
   "metadata": {},
   "source": [
    "Now visualize the loss over time using `history.history`: "
   ]
  },
  {
   "cell_type": "code",
   "execution_count": null,
   "metadata": {},
   "outputs": [],
   "source": [
    "# The history.history[\"loss\"] entry is a dictionary with as many values as epochs that the\n",
    "# model was trained on. \n",
    "df_loss_acc = pd.DataFrame(history.history)\n",
    "df_loss= df_loss_acc[['loss','val_loss']]\n",
    "df_loss.rename(columns={'loss':'train','val_loss':'validation'},inplace=True)\n",
    "df_acc= df_loss_acc[['accuracy','val_accuracy']]\n",
    "df_acc.rename(columns={'accuracy':'train','val_accuracy':'validation'},inplace=True)\n",
    "df_loss.plot(title='Model loss',figsize=(12,8)).set(xlabel='Epoch',ylabel='Loss')\n",
    "df_acc.plot(title='Model Accuracy',figsize=(12,8)).set(xlabel='Epoch',ylabel='Accuracy')"
   ]
  },
  {
   "cell_type": "markdown",
   "metadata": {},
   "source": [
    "**Congratulations**! You've finished the assignment and built two models: One that recognizes  smiles, and another that recognizes SIGN language with almost 80% accuracy on the test set. In addition to that, you now also understand the applications of two Keras APIs: Sequential and Functional. Nicely done! \n",
    "\n",
    "By now, you know a bit about how the Functional API works and may have glimpsed the possibilities. In your next assignment, you'll really get a feel for its power when you get the opportunity to build a very deep ConvNet, using ResNets! "
   ]
  },
  {
   "cell_type": "markdown",
   "metadata": {},
   "source": [
    "<a name='6'></a>\n",
    "## 6 - Bibliography\n",
    "\n",
    "You're always encouraged to read the official documentation. To that end, you can find the docs for the Sequential and Functional APIs here: \n",
    "\n",
    "https://www.tensorflow.org/guide/keras/sequential_model\n",
    "\n",
    "https://www.tensorflow.org/guide/keras/functional"
   ]
  }
 ],
 "metadata": {
  "coursera": {
   "course_slug": "convolutional-neural-networks",
   "graded_item_id": "bwbJV",
   "launcher_item_id": "0TkXB"
  },
  "kernelspec": {
   "display_name": "Python [conda env:mls]",
   "language": "python",
   "name": "conda-env-mls-py"
  },
  "language_info": {
   "codemirror_mode": {
    "name": "ipython",
    "version": 3
   },
   "file_extension": ".py",
   "mimetype": "text/x-python",
   "name": "python",
   "nbconvert_exporter": "python",
   "pygments_lexer": "ipython3",
   "version": "3.7.12"
  }
 },
 "nbformat": 4,
 "nbformat_minor": 2
}
